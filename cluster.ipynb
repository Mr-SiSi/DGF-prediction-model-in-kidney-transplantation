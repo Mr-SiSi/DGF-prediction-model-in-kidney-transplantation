{
 "cells": [
  {
   "cell_type": "code",
   "execution_count": 1,
   "id": "6833fe34",
   "metadata": {},
   "outputs": [],
   "source": [
    "import numpy as np, pandas as pd\n",
    "from sklearn.cluster import KMeans\n",
    "from sklearn.preprocessing import scale\n",
    "import matplotlib.pyplot as plt\n",
    "plt.style.use('ggplot')\n",
    "%matplotlib inline"
   ]
  },
  {
   "cell_type": "code",
   "execution_count": null,
   "id": "24b43665",
   "metadata": {},
   "outputs": [],
   "source": [
    "dataset = pd.read_csv('Your path files/')\n",
    "dataset.head()"
   ]
  },
  {
   "cell_type": "code",
   "execution_count": null,
   "id": "b08fdf97",
   "metadata": {},
   "outputs": [],
   "source": [
    "df = dataset.iloc[:,0:58]\n",
    "df.head()"
   ]
  },
  {
   "cell_type": "code",
   "execution_count": null,
   "id": "bcd43b3d",
   "metadata": {},
   "outputs": [],
   "source": [
    "df.isnull().values.any()"
   ]
  },
  {
   "cell_type": "code",
   "execution_count": null,
   "id": "74fc0745",
   "metadata": {},
   "outputs": [],
   "source": [
    "scaled_df = pd.DataFrame(scale(df), columns=df.columns)\n",
    "scaled_df.head()"
   ]
  },
  {
   "cell_type": "code",
   "execution_count": 6,
   "id": "23fd5a23",
   "metadata": {},
   "outputs": [
    {
     "data": {
      "text/plain": [
       "KMeans(n_clusters=2, random_state=1234)"
      ]
     },
     "execution_count": 6,
     "metadata": {},
     "output_type": "execute_result"
    }
   ],
   "source": [
    "clf = KMeans(n_clusters=2, random_state=1234)\n",
    "clf.fit(scaled_df)"
   ]
  },
  {
   "cell_type": "code",
   "execution_count": null,
   "id": "cfb9dc04",
   "metadata": {},
   "outputs": [],
   "source": [
    "centroids = clf.cluster_centers_\n",
    "centroids"
   ]
  },
  {
   "cell_type": "code",
   "execution_count": null,
   "id": "7427064f",
   "metadata": {},
   "outputs": [],
   "source": [
    "labels = clf.labels_\n",
    "labels"
   ]
  },
  {
   "cell_type": "code",
   "execution_count": null,
   "id": "b7c0021c",
   "metadata": {},
   "outputs": [],
   "source": [
    "df['cluster'] = labels\n",
    "dataset['cluster'] = labels\n",
    "dataset.tail()"
   ]
  },
  {
   "cell_type": "code",
   "execution_count": null,
   "id": "fcaa0abe",
   "metadata": {},
   "outputs": [],
   "source": [
    "print(dataset)"
   ]
  },
  {
   "cell_type": "code",
   "execution_count": null,
   "id": "54ffee30",
   "metadata": {},
   "outputs": [],
   "source": [
    "dataset['cluster'].value_counts()"
   ]
  },
  {
   "cell_type": "code",
   "execution_count": null,
   "id": "9e8b4035",
   "metadata": {},
   "outputs": [],
   "source": [
    "#cluster之间的欧几里得空间距离计算\n",
    "centroids_distance = np.linalg.norm(centroids[0]-centroids[1])\n",
    "centroids_distance"
   ]
  },
  {
   "cell_type": "code",
   "execution_count": null,
   "id": "167995ed",
   "metadata": {
    "scrolled": true
   },
   "outputs": [],
   "source": [
    "dataset.drop('Outcome', 1, inplace=True)"
   ]
  },
  {
   "cell_type": "code",
   "execution_count": null,
   "id": "758fffda",
   "metadata": {},
   "outputs": [],
   "source": [
    "Outcome = pd.crosstab(index=dataset['cluster'], columns=dataset['Outcome'], margins=True)\n",
    "Outcome = (online/online.ix[-1,-1])*100\n",
    "Outcome.iloc[:-1, :-1].plot(kind='bar')\n",
    "Outcome"
   ]
  },
  {
   "cell_type": "code",
   "execution_count": null,
   "id": "f55ef2c0",
   "metadata": {},
   "outputs": [],
   "source": []
  }
 ],
 "metadata": {
  "kernelspec": {
   "display_name": "Python 3 (ipykernel)",
   "language": "python",
   "name": "python3"
  },
  "language_info": {
   "codemirror_mode": {
    "name": "ipython",
    "version": 3
   },
   "file_extension": ".py",
   "mimetype": "text/x-python",
   "name": "python",
   "nbconvert_exporter": "python",
   "pygments_lexer": "ipython3",
   "version": "3.9.7"
  }
 },
 "nbformat": 4,
 "nbformat_minor": 5
}
