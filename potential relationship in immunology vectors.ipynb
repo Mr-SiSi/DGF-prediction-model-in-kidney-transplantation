{
 "cells": [
  {
   "cell_type": "code",
   "execution_count": 1,
   "id": "34b9bcc4",
   "metadata": {},
   "outputs": [],
   "source": [
    "import numpy as np\n",
    "import pandas as pd\n",
    "import matplotlib.pyplot as plt\n",
    "from matplotlib import rcParams\n",
    "from matplotlib.cm import rainbow\n",
    "import seaborn as sns\n",
    "%matplotlib inline\n",
    "import warnings\n",
    "warnings.filterwarnings('ignore')\n",
    "import pickle\n",
    "import shap\n",
    "import xgboost\n",
    "from sklearn.model_selection import train_test_split\n",
    "from sklearn.preprocessing import StandardScaler\n",
    "from sklearn.neighbors import KNeighborsClassifier\n",
    "from sklearn.svm import SVC\n",
    "from sklearn.tree import DecisionTreeClassifier\n",
    "from sklearn.ensemble import RandomForestClassifier"
   ]
  },
  {
   "cell_type": "code",
   "execution_count": null,
   "id": "f1591672",
   "metadata": {},
   "outputs": [],
   "source": [
    "dataset = pd.read_csv('/Users/henryding/Library/CloudStorage/OneDrive-cmu.edu.cn/sci/复杂网络动态模型/database/immunology-variables.csv')\n",
    "#dataset = dataset.iloc[:,1:50]\n",
    "\n",
    "#dataset[2,29] = pd.to_numeric(dataset[2,29])\n",
    "#上面的命令是把这一列转换为float格式\n",
    "dataset.info()"
   ]
  },
  {
   "cell_type": "code",
   "execution_count": null,
   "id": "d9ea2211",
   "metadata": {},
   "outputs": [],
   "source": [
    "dataset.describe()"
   ]
  },
  {
   "cell_type": "code",
   "execution_count": null,
   "id": "840df974",
   "metadata": {},
   "outputs": [],
   "source": [
    "from pandas import DataFrame\n",
    "N1 = dataset.iloc[:,0]\n",
    "L1 = dataset.iloc[:,1]\n",
    "M1 = dataset.iloc[:,2]\n",
    "N2 = dataset.iloc[:,3]\n",
    "L2 = dataset.iloc[:,4]\n",
    "M2 = dataset.iloc[:,5]\n",
    "N3 = dataset.iloc[:,6]\n",
    "L3 = dataset.iloc[:,7]\n",
    "M3 = dataset.iloc[:,8]\n",
    "N4 = dataset.iloc[:,9]\n",
    "L4 = dataset.iloc[:,10]\n",
    "M4 = dataset.iloc[:,11]\n",
    "Target = dataset.iloc[:, 12]\n",
    "#print(Target)#源数据基础上的Outcome列\n",
    "\n",
    "a1 = N1/L1; a2 = L1/M1; a3 = N1/M1; a4 = L1/N1; a5 = M1/L1; a6 = M1/N1\n",
    "b1 = a1 + a5; b2 = a2 + a3; b3 = a4 + a6; b4 = a1 * a5; b5 = a2 * a3; b6 = a4 * a6\n",
    "c1 = N2/L2; c2 = L2/M2; c3 = N2/M2; c4 = L2/N2; c5 = M2/L2; c6 = M2/N2\n",
    "d1 = c1 + c5; d2 = c2 + c3; d3 = c4 + c6;d4 = c1 * c5;d5 = c2 * c3;d6 = c4 * c6;\n",
    "e1 = N3/L3;e2 = L3/M3;e3 = N3/M3;e4 = L3/N3;e5 = M3/L3;e6 = M3/N3;\n",
    "f1 = e1 + e5;f2 = e2 + e3;f3 = e4 + e6;f4 = e1 * e5;f5 = e2 * e3;f6 = e4 * e6\n",
    "g1 = N4/L4;g2 = L4/M4;g3 = N4/M4;g4 = L4/N4;g5 = M4/L4;g6 = M4/N4;\n",
    "h1 = g1 + g5;h2 = g2 + g3;h3 = g4 + g6;h4 = g1 * g5;h5 = g2 * g3;h6 = g4 * g6\n",
    "a11 = (N2-N1)/N1; a12 = (N3-N2)/N2; a13 = (N4-N3)/N3; a14 = (L2-L1)/L1; a15 = (L3-L2)/L2; a16 = (L4-L3)/L3; a17 = (M2-M1)/M1; a18 = (M3-M2)/M2; a19 = (M4-M3)/M3\n",
    "b11 = a11*a1; b12 = a12*c1; b13 = a13*e1; b14 = a14*a2; b15 = a15*c2; b16 = a16*e2; b17 = a17*a3; b18 = a18*c3; b19 = a19 * e3\n",
    "c11 = a11/a12; c12 = a12/a13; c13 = a14/a15; c14 = a15/a16; c15 = a17/a18; c16 = a18/a19\n",
    "\n",
    "\n",
    "\n",
    "#data = pd.merge(a1,a2,a3 ,a4,a5,a6,b1,b2,b3,b4,b5,b6,c1,c2,c3,c4,c5,c6,d1,d2,d3,d4,d5,d6,e1,e2,e3,e4,e5,e6,f1,f2,f3,f4,f5,f6,g1,g2,g3,g4,g5,g6,h1,h2,h3,h4,h5,h6)\n",
    "data = pd.concat(objs=[Target,a1,a2,a3 ,a4,a5,a6,b1,b2,b3,b4,b5,b6,c1,c2,c3,c4,c5,c6,d1,d2,d3,d4,d5,d6,e1,e2,e3,e4,e5,e6,f1,f2,f3,f4,f5,f6,g1,g2,g3,g4,g5,g6,h1,h2,h3,h4,h5,h6,\n",
    "                       a11,a12,a13,a14,a15,a16,a17,a18,a19,b11,b12,b13,b14,b15,b16,b17,b18,b19,N1,M1,L1,N2,M2,L2,N3,M3,L3,N4,M4,L4],axis=1)\n",
    "names = ['Outcome','a1','a2','a3','a4','a5','a6','b1','b2','b3','b4','b5','b6','c1','c2','c3','c4','c5','c6','d1','d2','d3','d4','d5','d6','e1','e2','e3','e4','e5','e6','f1','f2','f3','f4','f5','f6','g1','g2','g3','g4','g5','g6','h1','h2','h3','h4','h5','h6',\n",
    "          'a11','a12','a13','a14','a15','a16','a17','a18','a19','b11','b12','b13','b14','b15','b16','b17','b18','b19','N1','M1','L1','N2','M2','L2','N3','M3','L3','N4','M4','L4']\n",
    "\n",
    "data.columns = names\n",
    "data.head()\n"
   ]
  },
  {
   "cell_type": "code",
   "execution_count": null,
   "id": "a36ae53c",
   "metadata": {},
   "outputs": [],
   "source": [
    "rcParams['figure.figsize'] = 40, 80\n",
    "\n",
    "plt.matshow(data.corr('kendall'), cmap=plt.cm.seismic)\n",
    "plt.yticks(np.arange(data.shape[1]), data.columns)\n",
    "plt.xticks(np.arange(data.shape[1]), data.columns, rotation=90)\n",
    "plt.colorbar()\n",
    "#plt.show()"
   ]
  },
  {
   "cell_type": "code",
   "execution_count": null,
   "id": "1a008ae4",
   "metadata": {
    "scrolled": false
   },
   "outputs": [],
   "source": [
    "data.hist()"
   ]
  },
  {
   "cell_type": "code",
   "execution_count": null,
   "id": "ae3798a8",
   "metadata": {
    "scrolled": true
   },
   "outputs": [],
   "source": [
    "data[\"Outcome\"].describe()\n",
    "data[\"Outcome\"].unique()\n",
    "print(data.corr()[\"Outcome\"].abs().sort_values(ascending=False))"
   ]
  },
  {
   "cell_type": "code",
   "execution_count": null,
   "id": "e8df5fc7",
   "metadata": {},
   "outputs": [],
   "source": [
    "y = data[\"Outcome\"]\n",
    "\n",
    "sns.countplot(y)\n",
    "\n",
    "\n",
    "Target_temp = dataset.Outcome.value_counts()\n",
    "\n",
    "print(Target_temp)"
   ]
  },
  {
   "cell_type": "code",
   "execution_count": null,
   "id": "94552390",
   "metadata": {},
   "outputs": [],
   "source": [
    "from sklearn.model_selection import train_test_split\n",
    "\n",
    "predictors = data.drop(\"Outcome\",axis=1)\n",
    "Target = data[\"Outcome\"]\n",
    "\n",
    "X_train,X_test,Y_train,Y_test = train_test_split(predictors,Target,test_size=0.50,random_state=0)\n",
    "X_train.shape\n",
    "X_test.shape\n",
    "Y_train.shape\n",
    "Y_test.shape"
   ]
  },
  {
   "cell_type": "code",
   "execution_count": null,
   "id": "4e0dd8c9",
   "metadata": {},
   "outputs": [],
   "source": [
    "from sklearn.metrics import accuracy_score\n",
    "from sklearn.linear_model import LogisticRegression\n",
    "lr = LogisticRegression()\n",
    "\n",
    "lr.fit(X_train,Y_train)\n",
    "\n",
    "Y_pred_lr = lr.predict(X_test)\n",
    "Y_pred_lr.shape\n",
    "score_lr = round(accuracy_score(Y_pred_lr,Y_test)*100,2)\n",
    "\n",
    "print(\"The accuracy score achieved using Logistic Regression is: \"+str(score_lr)+\" %\")\n",
    "# save the model to disk\n",
    "filename = 'LogisticRegression.sav'\n",
    "pickle.dump(lr, open(filename, 'wb'))"
   ]
  },
  {
   "cell_type": "code",
   "execution_count": null,
   "id": "6d218d8d",
   "metadata": {},
   "outputs": [],
   "source": [
    "from sklearn.naive_bayes import GaussianNB\n",
    "\n",
    "nb = GaussianNB()\n",
    "\n",
    "nb.fit(X_train,Y_train)\n",
    "\n",
    "Y_pred_nb = nb.predict(X_test)\n",
    "\n",
    "score_nb = round(accuracy_score(Y_pred_nb,Y_test)*100,2)\n",
    "\n",
    "print(\"The accuracy score achieved using Naive Bayes is: \"+str(score_nb)+\" %\")"
   ]
  },
  {
   "cell_type": "code",
   "execution_count": null,
   "id": "4054dccb",
   "metadata": {},
   "outputs": [],
   "source": [
    "from sklearn import svm\n",
    "\n",
    "sv = svm.SVC(kernel='linear')\n",
    "\n",
    "sv.fit(X_train, Y_train)\n",
    "\n",
    "Y_pred_svm = sv.predict(X_test)\n",
    "\n",
    "Y_pred_svm.shape\n",
    "\n",
    "score_svm = round(accuracy_score(Y_pred_svm,Y_test)*100,2)\n",
    "\n",
    "print(\"The accuracy score achieved using Linear SVM is: \"+str(score_svm)+\" %\")"
   ]
  },
  {
   "cell_type": "code",
   "execution_count": null,
   "id": "c9031f72",
   "metadata": {},
   "outputs": [],
   "source": [
    "from sklearn.neighbors import KNeighborsClassifier\n",
    "\n",
    "knn = KNeighborsClassifier(n_neighbors=7)\n",
    "knn.fit(X_train,Y_train)\n",
    "Y_pred_knn=knn.predict(X_test)\n",
    "\n",
    "Y_pred_knn.shape\n",
    "\n",
    "score_knn = round(accuracy_score(Y_pred_knn,Y_test)*100,2)\n",
    "\n",
    "print(\"The accuracy score achieved using KNN is: \"+str(score_knn)+\" %\")"
   ]
  },
  {
   "cell_type": "code",
   "execution_count": null,
   "id": "acb43981",
   "metadata": {},
   "outputs": [],
   "source": [
    "#决策树分类器\n",
    "from sklearn.tree import DecisionTreeClassifier\n",
    "\n",
    "max_accuracy = 0\n",
    "\n",
    "\n",
    "for x in range(200):\n",
    "    dt = DecisionTreeClassifier(random_state=x)\n",
    "    dt.fit(X_train,Y_train)\n",
    "    Y_pred_dt = dt.predict(X_test)\n",
    "    current_accuracy = round(accuracy_score(Y_pred_dt,Y_test)*100,2)\n",
    "    if(current_accuracy>max_accuracy):\n",
    "        max_accuracy = current_accuracy\n",
    "        best_x = x\n",
    "        \n",
    "#print(max_accuracy)\n",
    "#print(best_x)\n",
    "\n",
    "\n",
    "dt = DecisionTreeClassifier(random_state=best_x)\n",
    "dt.fit(X_train,Y_train)\n",
    "Y_pred_dt = dt.predict(X_test)\n",
    "\n",
    "print(Y_pred_dt.shape)\n",
    "\n",
    "score_dt = round(accuracy_score(Y_pred_dt,Y_test)*100,2)\n",
    "\n",
    "print(\"The accuracy score achieved using Decision Tree is: \"+str(score_dt)+\" %\")"
   ]
  },
  {
   "cell_type": "code",
   "execution_count": null,
   "id": "c8ef74bc",
   "metadata": {},
   "outputs": [],
   "source": [
    "#随机森林分类器\n",
    "from sklearn.ensemble import RandomForestClassifier\n",
    "\n",
    "max_accuracy = 0\n",
    "\n",
    "\n",
    "for x in range(1000):\n",
    "    rf = RandomForestClassifier(random_state=x)\n",
    "    rf.fit(X_train,Y_train)\n",
    "    Y_pred_rf = rf.predict(X_test)\n",
    "    current_accuracy = round(accuracy_score(Y_pred_rf,Y_test)*100,2)\n",
    "    if(current_accuracy>max_accuracy):\n",
    "        max_accuracy = current_accuracy\n",
    "        best_x = x\n",
    "        \n",
    "#print(max_accuracy)\n",
    "#print(best_x)\n",
    "\n",
    "rf = RandomForestClassifier(random_state=best_x)\n",
    "rf.fit(X_train,Y_train)\n",
    "Y_pred_rf = rf.predict(X_test)\n",
    "\n",
    "Y_pred_rf.shape\n",
    "\n",
    "score_rf = round(accuracy_score(Y_pred_rf,Y_test)*100,2)\n",
    "\n",
    "print(\"The accuracy score achieved using Decision Tree is: \"+str(score_rf)+\" %\")"
   ]
  },
  {
   "cell_type": "code",
   "execution_count": null,
   "id": "cfcec8ed",
   "metadata": {},
   "outputs": [],
   "source": [
    "#XGboost分类器——类似stacking原理，合并了多个弱分类器的强分类器\n",
    "\n",
    "import xgboost as xgb\n",
    "xgb_model = xgb.XGBClassifier(objective=\"binary:logistic\", random_state=42)\n",
    "model = xgb_model.fit(X_train, Y_train)\n",
    "\n",
    "Y_pred_xgb = xgb_model.predict(X_test)\n",
    "Y_pred_xgb.shape\n",
    "\n",
    "score_xgb = round(accuracy_score(Y_pred_xgb,Y_test)*100,2)\n",
    "\n",
    "print(\"The accuracy score achieved using XGBoost is: \"+str(score_xgb)+\" %\")"
   ]
  },
  {
   "cell_type": "code",
   "execution_count": null,
   "id": "0c48371c",
   "metadata": {},
   "outputs": [],
   "source": [
    "explainer = shap.Explainer(model)\n",
    "shap_values = explainer(X_train)\n",
    "shap.plots.waterfall(shap_values[0])#可视化\n"
   ]
  },
  {
   "cell_type": "code",
   "execution_count": null,
   "id": "881f8c1d",
   "metadata": {},
   "outputs": [],
   "source": [
    "#根据label画图，这一步构建的是3D坐标系\n",
    "from mpl_toolkits.mplot3d import Axes3D\n",
    "from matplotlib import pyplot as plt\n",
    "fig = plt.figure()\n",
    "ax = plt.axes(projection='3d')"
   ]
  },
  {
   "cell_type": "code",
   "execution_count": null,
   "id": "4d4741a2",
   "metadata": {},
   "outputs": [],
   "source": [
    "#3D坐标系的内容填充\n",
    "X = data['e2']\n",
    "Y = data['b3']\n",
    "Z = data['Outcome']\n",
    "T = data['a15']\n",
    "C = []\n",
    "for z in Z:\n",
    "    if z >= 1:\n",
    "        C.append(\"r\")\n",
    "#   elif z < 1:\n",
    "#       C.append(\"y\")\n",
    "    else:\n",
    "        C.append(\"k\")\n",
    "#作图\n",
    "ax=plt.subplot(111,projection='3d')\n",
    "\n",
    "ax.scatter(X,Y,T,c=C,alpha=0.4,s=200)#生成散点.利用c控制颜色序列,s控制大小\n",
    "\n",
    "ax.set_xlabel('vactor1')\n",
    "\n",
    "ax.set_ylabel('vactor2')\n",
    "\n",
    "ax.set_zlabel('outcome')\n",
    "plt.show()"
   ]
  }
 ],
 "metadata": {
  "kernelspec": {
   "display_name": "Python 3 (ipykernel)",
   "language": "python",
   "name": "python3"
  },
  "language_info": {
   "codemirror_mode": {
    "name": "ipython",
    "version": 3
   },
   "file_extension": ".py",
   "mimetype": "text/x-python",
   "name": "python",
   "nbconvert_exporter": "python",
   "pygments_lexer": "ipython3",
   "version": "3.9.7"
  }
 },
 "nbformat": 4,
 "nbformat_minor": 5
}
